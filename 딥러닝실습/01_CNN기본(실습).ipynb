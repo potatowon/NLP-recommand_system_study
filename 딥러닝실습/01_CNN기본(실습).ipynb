{
  "nbformat": 4,
  "nbformat_minor": 0,
  "metadata": {
    "colab": {
      "provenance": []
    },
    "kernelspec": {
      "name": "python3",
      "display_name": "Python 3"
    },
    "language_info": {
      "name": "python"
    },
    "accelerator": "GPU",
    "gpuClass": "standard"
  },
  "cells": [
    {
      "cell_type": "markdown",
      "source": [
        "## CNN Basic Modeling"
      ],
      "metadata": {
        "id": "n8xeUwoZQRnv"
      }
    },
    {
      "cell_type": "code",
      "source": [
        "import tensorflow"
      ],
      "metadata": {
        "id": "_x8F5TsBQlI-"
      },
      "execution_count": null,
      "outputs": []
    },
    {
      "cell_type": "code",
      "source": [
        "from tensorflow.keras import datasets, layers, models #Tensorflow에 있는 Keras 함수들 호출하기"
      ],
      "metadata": {
        "id": "75jrq3VSQqZD"
      },
      "execution_count": null,
      "outputs": []
    },
    {
      "cell_type": "markdown",
      "source": [
        "### 1. 데이터 로드 및 탐색"
      ],
      "metadata": {
        "id": "R0ovcVedQu7P"
      }
    },
    {
      "cell_type": "code",
      "source": [
        "(train_images, train_labels), (test_images, test_labels) = datasets.mnist.load_data()"
      ],
      "metadata": {
        "colab": {
          "base_uri": "https://localhost:8080/"
        },
        "id": "hoOvlm53QscX",
        "outputId": "a4d97a97-2a44-4fd5-898a-ecf9e97e438e"
      },
      "execution_count": null,
      "outputs": [
        {
          "output_type": "stream",
          "name": "stdout",
          "text": [
            "Downloading data from https://storage.googleapis.com/tensorflow/tf-keras-datasets/mnist.npz\n",
            "11490434/11490434 [==============================] - 0s 0us/step\n"
          ]
        }
      ]
    },
    {
      "cell_type": "code",
      "source": [
        "from matplotlib import pyplot as plt\n",
        "\n",
        "plt.figure()\n",
        "plt.imshow(train_images[10004], cmap='gray')\n",
        "plt.show()"
      ],
      "metadata": {
        "colab": {
          "base_uri": "https://localhost:8080/",
          "height": 430
        },
        "id": "33IKdaGCQt8-",
        "outputId": "fb6102f8-fabe-4533-f2a0-003b9d4ce920"
      },
      "execution_count": null,
      "outputs": [
        {
          "output_type": "display_data",
          "data": {
            "text/plain": [
              "<Figure size 640x480 with 1 Axes>"
            ],
            "image/png": "[encoded data removed]"
          },
          "metadata": {}
        }
      ]
    },
    {
      "cell_type": "code",
      "source": [
        "# conv layer에 넣어주기 위해서 28x28을 28x28x1 형태로 변경해야한다.\n",
        "# Nomalization\n",
        "\n",
        "\n",
        "train_images = train_images.reshape((60000, 28,28,1)) / 255.\n",
        "test_images = test_images.reshape((10000, 28,28,1)) / 255.\n",
        "\n",
        "## MLP 의 경우 reshape(-1, 28*28), flatten() 을 사용"
      ],
      "metadata": {
        "id": "uedTSeCrQ1Ho"
      },
      "execution_count": null,
      "outputs": []
    },
    {
      "cell_type": "markdown",
      "source": [
        "### 2. 모델 구축"
      ],
      "metadata": {
        "id": "W43jk4GORC3e"
      }
    },
    {
      "cell_type": "markdown",
      "source": [
        "MLP는 보통 hidden node의 수를 줄이는 방식이 많다.  \n",
        "CNN은 channel의 수를 늘리는 상황이 많다."
      ],
      "metadata": {
        "id": "PwBsZJIVj48_"
      }
    },
    {
      "cell_type": "code",
      "source": [
        "model = models.Sequential()\n",
        "\n",
        "# 64개의 kernel(=filter, channel), 3x3 kernel size\n",
        "model.add(layers.Conv2D(64, (3, 3), activation='relu', input_shape=(28, 28, 1)))\n",
        "model.add(layers.MaxPool2D((2, 2))) # --> immage가 1/4로 축소\n",
        "model.add(layers.Conv2D(128, (3, 3),  activation='relu'))\n",
        "model.add(layers.MaxPool2D((2, 2)))\n",
        "model.add(layers.Conv2D(256, (3, 3),  activation='relu'))\n",
        "# feature map 이 256개 생성 --> 이미지에서 피처를 추출함\n",
        "\n",
        "model.add(layers.Flatten())\n",
        "model.add(layers.Dense(32, activation='relu'))\n",
        "model.add(layers.Dense(10, activation='softmax'))"
      ],
      "metadata": {
        "id": "nDvGKQM7jB8_"
      },
      "execution_count": null,
      "outputs": []
    },
    {
      "cell_type": "code",
      "source": [
        "model.summary()"
      ],
      "metadata": {
        "colab": {
          "base_uri": "https://localhost:8080/"
        },
        "id": "a_3ZjiS7jCT2",
        "outputId": "03417208-c889-4c7b-996c-ed53197ddad1"
      },
      "execution_count": null,
      "outputs": [
        {
          "output_type": "stream",
          "name": "stdout",
          "text": [
            "Model: \"sequential_2\"\n",
            "_________________________________________________________________\n",
            " Layer (type)                Output Shape              Param #   \n",
            "=================================================================\n",
            " conv2d_4 (Conv2D)           (None, 26, 26, 64)        640       \n",
            "                                                                 \n",
            " max_pooling2d_2 (MaxPooling  (None, 13, 13, 64)       0         \n",
            " 2D)                                                             \n",
            "                                                                 \n",
            " conv2d_5 (Conv2D)           (None, 11, 11, 128)       73856     \n",
            "                                                                 \n",
            " max_pooling2d_3 (MaxPooling  (None, 5, 5, 128)        0         \n",
            " 2D)                                                             \n",
            "                                                                 \n",
            " conv2d_6 (Conv2D)           (None, 3, 3, 256)         295168    \n",
            "                                                                 \n",
            " flatten (Flatten)           (None, 2304)              0         \n",
            "                                                                 \n",
            " dense (Dense)               (None, 32)                73760     \n",
            "                                                                 \n",
            " dense_1 (Dense)             (None, 10)                330       \n",
            "                                                                 \n",
            "=================================================================\n",
            "Total params: 443,754\n",
            "Trainable params: 443,754\n",
            "Non-trainable params: 0\n",
            "_________________________________________________________________\n"
          ]
        }
      ]
    },
    {
      "cell_type": "code",
      "source": [
        "model.compile(optimizer = 'adam',\n",
        "             loss='sparse_categorical_crossentropy',\n",
        "             metrics =['accuracy'])"
      ],
      "metadata": {
        "id": "K9SMaPWPjCV4"
      },
      "execution_count": null,
      "outputs": []
    },
    {
      "cell_type": "code",
      "source": [
        "model.fit(train_images, train_labels, epochs=5, validation_split = 0.2)"
      ],
      "metadata": {
        "colab": {
          "base_uri": "https://localhost:8080/"
        },
        "id": "qCh25JnxjCX8",
        "outputId": "82ebd502-ae1d-448a-f040-3b35a1894881"
      },
      "execution_count": null,
      "outputs": [
        {
          "output_type": "stream",
          "name": "stdout",
          "text": [
            "Epoch 1/5\n",
            "1500/1500 [==============================] - 20s 5ms/step - loss: 0.1373 - accuracy: 0.9575 - val_loss: 0.0692 - val_accuracy: 0.9793\n",
            "Epoch 2/5\n",
            "1500/1500 [==============================] - 7s 5ms/step - loss: 0.0434 - accuracy: 0.9861 - val_loss: 0.0450 - val_accuracy: 0.9867\n",
            "Epoch 3/5\n",
            "1500/1500 [==============================] - 6s 4ms/step - loss: 0.0303 - accuracy: 0.9910 - val_loss: 0.0426 - val_accuracy: 0.9891\n",
            "Epoch 4/5\n",
            "1500/1500 [==============================] - 7s 5ms/step - loss: 0.0223 - accuracy: 0.9931 - val_loss: 0.0386 - val_accuracy: 0.9899\n",
            "Epoch 5/5\n",
            "1500/1500 [==============================] - 6s 4ms/step - loss: 0.0170 - accuracy: 0.9945 - val_loss: 0.0474 - val_accuracy: 0.9866\n"
          ]
        },
        {
          "output_type": "execute_result",
          "data": {
            "text/plain": [
              "<keras.callbacks.History at 0x7fbd74711ca0>"
            ]
          },
          "metadata": {},
          "execution_count": 15
        }
      ]
    },
    {
      "cell_type": "code",
      "source": [
        "#모델 검증\n",
        "test_loss, test_acc = model.evaluate(test_images,  test_labels, verbose=2)\n",
        "print(test_acc)"
      ],
      "metadata": {
        "colab": {
          "base_uri": "https://localhost:8080/"
        },
        "id": "LEBjMHKkjCbd",
        "outputId": "d847e68e-29e0-4bfc-a075-61e745a061a6"
      },
      "execution_count": null,
      "outputs": [
        {
          "output_type": "stream",
          "name": "stdout",
          "text": [
            "313/313 - 1s - loss: 0.0387 - accuracy: 0.9883 - 1s/epoch - 4ms/step\n",
            "0.9883000254631042\n"
          ]
        }
      ]
    },
    {
      "cell_type": "code",
      "source": [],
      "metadata": {
        "id": "JELyUSZBjCdd"
      },
      "execution_count": null,
      "outputs": []
    },
    {
      "cell_type": "code",
      "source": [],
      "metadata": {
        "id": "lUdY2zM7jCgD"
      },
      "execution_count": null,
      "outputs": []
    },
    {
      "cell_type": "code",
      "source": [],
      "metadata": {
        "id": "FDJoPP-YjCkF"
      },
      "execution_count": null,
      "outputs": []
    }
  ]
}