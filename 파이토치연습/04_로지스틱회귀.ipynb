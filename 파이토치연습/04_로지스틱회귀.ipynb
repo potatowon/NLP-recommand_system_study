{
  "nbformat": 4,
  "nbformat_minor": 0,
  "metadata": {
    "colab": {
      "provenance": []
    },
    "kernelspec": {
      "name": "python3",
      "display_name": "Python 3"
    },
    "language_info": {
      "name": "python"
    }
  },
  "cells": [
    {
      "cell_type": "markdown",
      "source": [
        "파이토치의 모델 학습은?\n",
        "\n",
        "경사하강법 -> cost function 이 감소하는 방향 그렇다면 미분을 계속 수행해야하는데 파이토치의 자동미분을 사용하여 미분 계산을 자동화한다.\n",
        "\n"
      ],
      "metadata": {
        "id": "YuGcaksbrDGt"
      }
    },
    {
      "cell_type": "code",
      "source": [
        "w = torch.tensor(2.0, requires_grad=True) # requires_grad 변수값을 변화시킬 수 있는 부분\n",
        "y = w**2\n",
        "z = 2*y + 5"
      ],
      "metadata": {
        "id": "d2aUufXhsCGA"
      },
      "execution_count": 28,
      "outputs": []
    },
    {
      "cell_type": "markdown",
      "source": [
        "`.backward()` : 수식의 기울기 계산"
      ],
      "metadata": {
        "id": "ZHuTkVsvsCpa"
      }
    },
    {
      "cell_type": "code",
      "source": [
        "z.backward()"
      ],
      "metadata": {
        "id": "8YWUF2SasCr8"
      },
      "execution_count": 29,
      "outputs": []
    },
    {
      "cell_type": "markdown",
      "source": [
        "`.grad` 를 이요하여 미분한 값 확인"
      ],
      "metadata": {
        "id": "uKsJZsbAsCt0"
      }
    },
    {
      "cell_type": "code",
      "source": [
        "w.grad"
      ],
      "metadata": {
        "colab": {
          "base_uri": "https://localhost:8080/"
        },
        "id": "RnOlkOO_shB6",
        "outputId": "e9b8ba32-7a2d-492f-8997-91fe40cfe21b"
      },
      "execution_count": 30,
      "outputs": [
        {
          "output_type": "execute_result",
          "data": {
            "text/plain": [
              "tensor(8.)"
            ]
          },
          "metadata": {},
          "execution_count": 30
        }
      ]
    },
    {
      "cell_type": "code",
      "source": [],
      "metadata": {
        "id": "Jf-ocstgsg9s"
      },
      "execution_count": null,
      "outputs": []
    },
    {
      "cell_type": "code",
      "source": [],
      "metadata": {
        "id": "_UI2JZUlsg6e"
      },
      "execution_count": null,
      "outputs": []
    },
    {
      "cell_type": "code",
      "source": [],
      "metadata": {
        "id": "VgcFlY-Dsgys"
      },
      "execution_count": null,
      "outputs": []
    },
    {
      "cell_type": "markdown",
      "source": [
        "# 로지스틱 회귀"
      ],
      "metadata": {
        "id": "ojBCcaOtp_UH"
      }
    },
    {
      "cell_type": "code",
      "execution_count": 1,
      "metadata": {
        "id": "wnLhDY8hl7pg"
      },
      "outputs": [],
      "source": [
        "## 로지스틱 회귀 구현하기\n",
        "\n",
        "import torch\n",
        "import torch.nn as nn\n",
        "import torch.nn.functional as F\n",
        "import torch.optim as optim"
      ]
    },
    {
      "cell_type": "code",
      "source": [
        "torch.manual_seed(1)"
      ],
      "metadata": {
        "colab": {
          "base_uri": "https://localhost:8080/"
        },
        "id": "0hRb7Qh3mVJ1",
        "outputId": "e2bf0554-a69c-43bb-f36b-cfdddac7e4f9"
      },
      "execution_count": 16,
      "outputs": [
        {
          "output_type": "execute_result",
          "data": {
            "text/plain": [
              "<torch._C.Generator at 0x7ff037d47070>"
            ]
          },
          "metadata": {},
          "execution_count": 16
        }
      ]
    },
    {
      "cell_type": "code",
      "source": [
        "x_data = [[1, 2], [2,  3], [3, 1], [4, 3], [5, 3], [6, 2]] # 6,2\n",
        "y_data = [[0], [0], [0], [1], [1], [1]] # 6, 1\n",
        "\n",
        "x_train = torch.FloatTensor(x_data)\n",
        "y_train = torch.FloatTensor(y_data)\n"
      ],
      "metadata": {
        "id": "-LKMrylOmmUR"
      },
      "execution_count": 3,
      "outputs": []
    },
    {
      "cell_type": "code",
      "source": [
        "# 가중치와 bias\n",
        "\n",
        "# x_data 2개의 값을 지니므로 ==> 가중치도 2개\n",
        "W = torch.zeros((2, 1), requires_grad=True) # requires_grad : 변수는 학습을 통해 값이 계속 변경되는 변수\n",
        "b = torch.zeros(1, requires_grad=True)\n"
      ],
      "metadata": {
        "id": "ovs2L_FznSL7"
      },
      "execution_count": 4,
      "outputs": []
    },
    {
      "cell_type": "code",
      "source": [
        "# z = Wx + b\n",
        "# H = sigmoid(z)\n",
        "\n",
        "z = x_train.matmul(W) + b\n",
        "hypothesis = 1 / (1 + torch.exp(-z))\n",
        "\n"
      ],
      "metadata": {
        "id": "Z9nUGROVoAko"
      },
      "execution_count": 5,
      "outputs": []
    },
    {
      "cell_type": "code",
      "source": [
        "print(hypothesis)"
      ],
      "metadata": {
        "colab": {
          "base_uri": "https://localhost:8080/"
        },
        "id": "73DgdOtAoQWM",
        "outputId": "a5dd6cab-5f58-4431-a2fe-d89e4434409f"
      },
      "execution_count": 6,
      "outputs": [
        {
          "output_type": "stream",
          "name": "stdout",
          "text": [
            "tensor([[0.5000],\n",
            "        [0.5000],\n",
            "        [0.5000],\n",
            "        [0.5000],\n",
            "        [0.5000],\n",
            "        [0.5000]], grad_fn=<MulBackward0>)\n"
          ]
        }
      ]
    },
    {
      "cell_type": "markdown",
      "source": [
        "가설을 보면 모두 0.5 값의 예측값 벡터가 나오게 된다... \\\n",
        "--> 안좋은 가중치임! 변경이 필요!"
      ],
      "metadata": {
        "id": "bRqRmwqFoXGq"
      }
    },
    {
      "cell_type": "code",
      "source": [
        "# cost function - 직접구현하기\n",
        "\n",
        "losses = -(y_train * torch.log(hypothesis) + \n",
        "           (1 - y_train) * torch.log(1 - hypothesis))\n",
        "cost = losses.mean()\n",
        "cost"
      ],
      "metadata": {
        "colab": {
          "base_uri": "https://localhost:8080/"
        },
        "id": "cDRkvaNUoSGl",
        "outputId": "075e07e3-2025-4439-a697-b76921427b74"
      },
      "execution_count": 9,
      "outputs": [
        {
          "output_type": "execute_result",
          "data": {
            "text/plain": [
              "tensor(0.6931, grad_fn=<MeanBackward0>)"
            ]
          },
          "metadata": {},
          "execution_count": 9
        }
      ]
    },
    {
      "cell_type": "code",
      "source": [
        "# functional 함수 이용하기\n",
        "\n",
        "F.binary_cross_entropy(hypothesis, y_train)"
      ],
      "metadata": {
        "colab": {
          "base_uri": "https://localhost:8080/"
        },
        "id": "2k-FyXvNolbI",
        "outputId": "1bbaa536-5392-4041-d190-bbebaf01e738"
      },
      "execution_count": 10,
      "outputs": [
        {
          "output_type": "execute_result",
          "data": {
            "text/plain": [
              "tensor(0.6931, grad_fn=<BinaryCrossEntropyBackward0>)"
            ]
          },
          "metadata": {},
          "execution_count": 10
        }
      ]
    },
    {
      "cell_type": "code",
      "source": [
        "# 모델링\n",
        "\n",
        "# 모델 초기화\n",
        "W = torch.zeros((2, 1), requires_grad=True)\n",
        "b = torch.zeros(1, requires_grad=True)\n",
        "# optimizer 설정\n",
        "optimizer = optim.SGD([W, b], lr=1)\n",
        "\n",
        "nb_epochs = 1000\n",
        "for epoch in range(nb_epochs + 1):\n",
        "\n",
        "    # Cost 계산\n",
        "    hypothesis = torch.sigmoid(x_train.matmul(W) + b)\n",
        "    cost = -(y_train * torch.log(hypothesis) + \n",
        "             (1 - y_train) * torch.log(1 - hypothesis)).mean()\n",
        "\n",
        "    # cost로 H(x) 개선\n",
        "    optimizer.zero_grad() # 파이토치 미분의 기울기를 누적시키는 특징 있기때문에 늘 초기화\n",
        "    cost.backward() # 미분\n",
        "    optimizer.step() # 업데이트\n",
        "\n",
        "    # 100번마다 로그 출력\n",
        "    if epoch % 100 == 0:\n",
        "        print('Epoch {:4d}/{} Cost: {:.6f}'.format(\n",
        "            epoch, nb_epochs, cost.item()\n",
        "        ))"
      ],
      "metadata": {
        "colab": {
          "base_uri": "https://localhost:8080/"
        },
        "id": "hfXOyM6ko4OK",
        "outputId": "41b326af-dd8a-4978-9dd2-3b786ad23121"
      },
      "execution_count": 11,
      "outputs": [
        {
          "output_type": "stream",
          "name": "stdout",
          "text": [
            "Epoch    0/1000 Cost: 0.693147\n",
            "Epoch  100/1000 Cost: 0.134722\n",
            "Epoch  200/1000 Cost: 0.080643\n",
            "Epoch  300/1000 Cost: 0.057900\n",
            "Epoch  400/1000 Cost: 0.045300\n",
            "Epoch  500/1000 Cost: 0.037261\n",
            "Epoch  600/1000 Cost: 0.031673\n",
            "Epoch  700/1000 Cost: 0.027556\n",
            "Epoch  800/1000 Cost: 0.024394\n",
            "Epoch  900/1000 Cost: 0.021888\n",
            "Epoch 1000/1000 Cost: 0.019852\n"
          ]
        }
      ]
    },
    {
      "cell_type": "code",
      "source": [
        "hypothesis = torch.sigmoid(x_train.matmul(W) + b)\n",
        "print(hypothesis) # 확률벡터"
      ],
      "metadata": {
        "colab": {
          "base_uri": "https://localhost:8080/"
        },
        "id": "7TBpWmCNpPHu",
        "outputId": "5abecef0-6237-432e-8c7e-d9343e0c95af"
      },
      "execution_count": 12,
      "outputs": [
        {
          "output_type": "stream",
          "name": "stdout",
          "text": [
            "tensor([[2.7648e-04],\n",
            "        [3.1608e-02],\n",
            "        [3.8977e-02],\n",
            "        [9.5622e-01],\n",
            "        [9.9823e-01],\n",
            "        [9.9969e-01]], grad_fn=<SigmoidBackward0>)\n"
          ]
        }
      ]
    },
    {
      "cell_type": "code",
      "source": [
        "prediction = hypothesis >= torch.FloatTensor([0.5])\n",
        "print([1 if i else 0 for i in prediction ])"
      ],
      "metadata": {
        "colab": {
          "base_uri": "https://localhost:8080/"
        },
        "id": "T9Hd0aEQpRmp",
        "outputId": "10a74608-edb4-4b52-f2c7-5c9e7396a59f"
      },
      "execution_count": 14,
      "outputs": [
        {
          "output_type": "stream",
          "name": "stdout",
          "text": [
            "[0, 0, 0, 1, 1, 1]\n"
          ]
        }
      ]
    },
    {
      "cell_type": "code",
      "source": [
        "print(W, b)"
      ],
      "metadata": {
        "colab": {
          "base_uri": "https://localhost:8080/"
        },
        "id": "T2ZGhgoHpgRU",
        "outputId": "bfc43063-cdbd-4f61-b9e7-de718473a8e5"
      },
      "execution_count": 15,
      "outputs": [
        {
          "output_type": "stream",
          "name": "stdout",
          "text": [
            "tensor([[3.2530],\n",
            "        [1.5179]], requires_grad=True) tensor([-14.4819], requires_grad=True)\n"
          ]
        }
      ]
    },
    {
      "cell_type": "markdown",
      "source": [
        "# nn.Module 구현하는 logistic regression"
      ],
      "metadata": {
        "id": "3SrR7Tzwpl68"
      }
    },
    {
      "cell_type": "code",
      "source": [
        "x_data = [[1, 2], [2, 3], [3, 1], [4, 3], [5, 3], [6, 2]]\n",
        "y_data = [[0], [0], [0], [1], [1], [1]]\n",
        "x_train = torch.FloatTensor(x_data)\n",
        "y_train = torch.FloatTensor(y_data)\n"
      ],
      "metadata": {
        "id": "Gu-OdsBlqMje"
      },
      "execution_count": 17,
      "outputs": []
    },
    {
      "cell_type": "code",
      "source": [
        "model = nn.Sequential(\n",
        "    nn.Linear(2, 1),\n",
        "    nn.Sigmoid()\n",
        ")\n",
        "# 모델 컴파일 과정이 없다."
      ],
      "metadata": {
        "id": "9D-q_qpsqQVC"
      },
      "execution_count": 18,
      "outputs": []
    },
    {
      "cell_type": "code",
      "source": [
        "model(x_train)"
      ],
      "metadata": {
        "colab": {
          "base_uri": "https://localhost:8080/"
        },
        "id": "IQUsteOMqYey",
        "outputId": "b8aeb7eb-1908-4127-c39c-33f3ad913ddf"
      },
      "execution_count": 19,
      "outputs": [
        {
          "output_type": "execute_result",
          "data": {
            "text/plain": [
              "tensor([[0.4020],\n",
              "        [0.4147],\n",
              "        [0.6556],\n",
              "        [0.5948],\n",
              "        [0.6788],\n",
              "        [0.8061]], grad_fn=<SigmoidBackward0>)"
            ]
          },
          "metadata": {},
          "execution_count": 19
        }
      ]
    },
    {
      "cell_type": "code",
      "source": [
        "# optimizer 설정\n",
        "optimizer = optim.SGD(model.parameters(), lr=1)\n",
        "\n",
        "nb_epochs = 1000\n",
        "for epoch in range(nb_epochs + 1):\n",
        "\n",
        "    # H(x) 계산\n",
        "    hypothesis = model(x_train)\n",
        "\n",
        "    # cost 계산\n",
        "    cost = F.binary_cross_entropy(hypothesis, y_train)\n",
        "\n",
        "    # cost로 H(x) 개선\n",
        "    optimizer.zero_grad()\n",
        "    cost.backward()\n",
        "    optimizer.step()"
      ],
      "metadata": {
        "id": "cYQ3zkMiqZ26"
      },
      "execution_count": 33,
      "outputs": []
    },
    {
      "cell_type": "code",
      "source": [
        "# 학습 후 W, b\n",
        "list(model.parameters())"
      ],
      "metadata": {
        "colab": {
          "base_uri": "https://localhost:8080/"
        },
        "id": "5fb9vCs8wo1h",
        "outputId": "3a4bbb37-2db6-4bed-8a88-d0b6ade3ce3d"
      },
      "execution_count": 34,
      "outputs": [
        {
          "output_type": "execute_result",
          "data": {
            "text/plain": [
              "[Parameter containing:\n",
              " tensor([[3.2534, 1.5181]], requires_grad=True),\n",
              " Parameter containing:\n",
              " tensor([-14.4839], requires_grad=True)]"
            ]
          },
          "metadata": {},
          "execution_count": 34
        }
      ]
    },
    {
      "cell_type": "code",
      "source": [
        "model(x_train)"
      ],
      "metadata": {
        "colab": {
          "base_uri": "https://localhost:8080/"
        },
        "id": "gDQ6N36Yw4s3",
        "outputId": "8f810fc0-40ab-449c-b3de-5014f8eebc70"
      },
      "execution_count": 35,
      "outputs": [
        {
          "output_type": "execute_result",
          "data": {
            "text/plain": [
              "tensor([[2.7616e-04],\n",
              "        [3.1595e-02],\n",
              "        [3.8959e-02],\n",
              "        [9.5624e-01],\n",
              "        [9.9823e-01],\n",
              "        [9.9969e-01]], grad_fn=<SigmoidBackward0>)"
            ]
          },
          "metadata": {},
          "execution_count": 35
        }
      ]
    },
    {
      "cell_type": "code",
      "source": [
        "[1 if i >0.5 else 0 for i in model(x_train)]\n",
        "# pred = hypothesis >= torch.FloatTensor([0.5])\n",
        "# [1 if i else 0 for i in pred]"
      ],
      "metadata": {
        "colab": {
          "base_uri": "https://localhost:8080/"
        },
        "id": "cw8EWtSkw-2u",
        "outputId": "6218c2e1-e79e-40d4-df31-99c799649df1"
      },
      "execution_count": 37,
      "outputs": [
        {
          "output_type": "execute_result",
          "data": {
            "text/plain": [
              "[0, 0, 0, 1, 1, 1]"
            ]
          },
          "metadata": {},
          "execution_count": 37
        }
      ]
    },
    {
      "cell_type": "code",
      "source": [],
      "metadata": {
        "id": "SiUsanJ8xJFI"
      },
      "execution_count": null,
      "outputs": []
    }
  ]
}