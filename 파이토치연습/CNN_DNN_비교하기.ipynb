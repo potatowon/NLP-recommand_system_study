{
  "nbformat": 4,
  "nbformat_minor": 0,
  "metadata": {
    "colab": {
      "provenance": []
    },
    "kernelspec": {
      "name": "python3",
      "display_name": "Python 3"
    },
    "language_info": {
      "name": "python"
    },
    "gpuClass": "standard"
  },
  "cells": [
    {
      "cell_type": "markdown",
      "source": [
        "# 1. Tensorflow 로 MNIST 구현하기(CNN)"
      ],
      "metadata": {
        "id": "Z4p-jKWTDleG"
      }
    },
    {
      "cell_type": "markdown",
      "source": [
        "MNIST 는 흑백의 이미지로 1개의 channel을 가지고 28*28 size를 지닌다.\n",
        "\n",
        "MLP의 경우 평면 자체로 이를 받아 들일수 없었기 때문에 \n",
        "shape(-1, 28*28) 나 `flatten()`을 이용하였다.\n",
        "\n",
        "CNN 의 경우 filter를 이용하여 주변 수용 영역이 합쳐지면서 이미지를 구현하게 된다.\n",
        "\n",
        "feature map의 특징은 이미지의 공간 정보(연관성)을 가지고 있다는 것이다. \n",
        "\n",
        "CNN은 \n",
        "- CONV 과정과 activation 과정이 섞여 있는 layer\n",
        "- Pooling 과정 ( feature map 의 사이즈를 줄임 따라서 대신 channel 수는 그대로)\n"
      ],
      "metadata": {
        "id": "UHsAPOHRE9BU"
      }
    },
    {
      "cell_type": "code",
      "source": [
        "import tensorflow as tf\n",
        "\n",
        "from tensorflow.keras import datasets, layers, models"
      ],
      "metadata": {
        "id": "Uq91AdEgFt-N"
      },
      "execution_count": 1,
      "outputs": []
    },
    {
      "cell_type": "code",
      "source": [
        "# 데이터 로드\n",
        "\n",
        "(train_images, train_labels), (test_images, test_labels) = datasets.mnist.load_data()"
      ],
      "metadata": {
        "colab": {
          "base_uri": "https://localhost:8080/"
        },
        "id": "iQ7DfLkKGPbl",
        "outputId": "fa600b9c-193c-4ae1-fc3f-3d527b607349"
      },
      "execution_count": 2,
      "outputs": [
        {
          "output_type": "stream",
          "name": "stdout",
          "text": [
            "Downloading data from https://storage.googleapis.com/tensorflow/tf-keras-datasets/mnist.npz\n",
            "11490434/11490434 [==============================] - 0s 0us/step\n"
          ]
        }
      ]
    },
    {
      "cell_type": "code",
      "source": [
        "# conv layer에 넣어주기 위해서 28x28을 28x28x1 형태로 변경해야한다.\n",
        "# Nomalization\n",
        "\n",
        "train_images = train_images.reshape((60000, 28,28,1)) / 255. # 값이 너무 크면 학습이 잘 되지 않음.\n",
        "test_images = test_images.reshape((10000, 28,28,1)) / 255."
      ],
      "metadata": {
        "id": "aBazQ57EGTM9"
      },
      "execution_count": 3,
      "outputs": []
    },
    {
      "cell_type": "code",
      "source": [
        "input_shape = train_images.shape[1:]"
      ],
      "metadata": {
        "id": "LYLWN9TtGxyp"
      },
      "execution_count": 7,
      "outputs": []
    },
    {
      "cell_type": "code",
      "source": [
        "\n",
        "model = models.Sequential([\n",
        "    # 특성추출 (Filtering)\n",
        "    layers.Conv2D(64, (3, 3), activation='relu', input_shape=input_shape),\n",
        "     # 64개의 특성을 추출할수 있는 filter(channel)과 3x3 filtersize를 이용하여 26x26 size의 feature map을 channel 64개로 생성한다.\n",
        "    layers.MaxPool2D((2, 2)),\n",
        "    layers.Conv2D(128, (3, 3), activation='relu'),\n",
        "    layers.MaxPool2D((2, 2)),\n",
        "    layers.Conv2D(256, (3, 3), activation='relu'),\n",
        "\n",
        "    # classifycation step\n",
        "    layers.Flatten(),\n",
        "    layers.Dense(32, activation='relu'),\n",
        "    layers.Dense(10, activation='softmax'),\n",
        "\n",
        "])"
      ],
      "metadata": {
        "id": "GCD9oVJYGcop"
      },
      "execution_count": 9,
      "outputs": []
    },
    {
      "cell_type": "code",
      "source": [
        "model.compile(optimizer = 'adam',\n",
        "             loss='sparse_categorical_crossentropy',\n",
        "             metrics =['accuracy'])"
      ],
      "metadata": {
        "id": "xRehEtPGHbPB"
      },
      "execution_count": 10,
      "outputs": []
    },
    {
      "cell_type": "code",
      "source": [
        "model.fit(train_images, train_labels, epochs=5, validation_split = 0.2)"
      ],
      "metadata": {
        "id": "BAnPwssNI4bo"
      },
      "execution_count": null,
      "outputs": []
    },
    {
      "cell_type": "code",
      "source": [],
      "metadata": {
        "id": "DscDazcOHoEO"
      },
      "execution_count": null,
      "outputs": []
    },
    {
      "cell_type": "markdown",
      "source": [
        "# 2. 유방암데이터 분류하기(DNN)"
      ],
      "metadata": {
        "id": "HPg3HKQTI3w6"
      }
    },
    {
      "cell_type": "code",
      "source": [
        "from sklearn.datasets import load_breast_cancer\n",
        "from sklearn.model_selection import train_test_split\n",
        "\n",
        "## data load ##\n",
        "\n",
        "# 유방암 data를 불러온 후, cancer 변수에 담아보자.\n",
        "cancer = load_breast_cancer()\n",
        "\n",
        "# 유방암 data를 학습용과 검증용 데이터 세트로 분리해보자.\n",
        "X_train, X_test, y_train, y_test = train_test_split(cancer.data, cancer.target,\n",
        "                                                   test_size=0.3, shuffle = True)"
      ],
      "metadata": {
        "id": "Rgg2NTxsHqDL"
      },
      "execution_count": 13,
      "outputs": []
    },
    {
      "cell_type": "code",
      "source": [
        "# 모델링\n",
        "model = tf.keras.models.Sequential([\n",
        "    tf.keras.layers.Dense(128, activation = 'relu'),\n",
        "    tf.keras.layers.Dense(64, activation = 'relu'), # 커도 문제가 없지만 작아지는게 괜찮다 --> overfitting 의 방지\n",
        "    tf.keras.layers.Dense(32, activation = 'relu'),\n",
        "    tf.keras.layers.Dense(16, activation = 'relu'),\n",
        "    tf.keras.layers.Dense(1, activation = 'sigmoid') # 이진 분류이기 때문\n",
        "\n",
        "])"
      ],
      "metadata": {
        "id": "N0r7iEKDJy6q"
      },
      "execution_count": 14,
      "outputs": []
    },
    {
      "cell_type": "code",
      "source": [
        "# 컴파일링\n",
        "model.compile(\n",
        "    optimizer = 'adam',     # 정답이 정해져 있음 적당히 고르면 된다.\n",
        "    loss = 'binary_crossentropy', # 적당히 고르면 안됨. --> 어떤 분류이냐에 따라 결정해줘야한다.\n",
        "    metrics = 'accuracy'\n",
        ")\n",
        "\n",
        "### Sparse Categorical Cross-Entropy : 정수 형태의 레이블\n",
        "### Categorical Cross-Entropy : 원-핫 인코딩된 레이블"
      ],
      "metadata": {
        "id": "jR1z2MxKJzoS"
      },
      "execution_count": 15,
      "outputs": []
    },
    {
      "cell_type": "code",
      "source": [
        "# 학습\n",
        "history = model.fit(X_train, y_train, epochs = 10, batch_size = 64)\n",
        "# 최적화 과정을 수행할 때 epochs나 batch _size를 변경하며 성능을 비교한다."
      ],
      "metadata": {
        "colab": {
          "base_uri": "https://localhost:8080/"
        },
        "id": "B14gvx_RJ0FF",
        "outputId": "bb4a3f0b-075e-41d2-dd50-3b834b1f843d"
      },
      "execution_count": 16,
      "outputs": [
        {
          "output_type": "stream",
          "name": "stdout",
          "text": [
            "Epoch 1/10\n",
            "7/7 [==============================] - 1s 4ms/step - loss: 6.6431 - accuracy: 0.4246\n",
            "Epoch 2/10\n",
            "7/7 [==============================] - 0s 3ms/step - loss: 3.3170 - accuracy: 0.5126\n",
            "Epoch 3/10\n",
            "7/7 [==============================] - 0s 3ms/step - loss: 1.0251 - accuracy: 0.6859\n",
            "Epoch 4/10\n",
            "7/7 [==============================] - 0s 3ms/step - loss: 0.6267 - accuracy: 0.7764\n",
            "Epoch 5/10\n",
            "7/7 [==============================] - 0s 3ms/step - loss: 0.3782 - accuracy: 0.8618\n",
            "Epoch 6/10\n",
            "7/7 [==============================] - 0s 3ms/step - loss: 0.4324 - accuracy: 0.8518\n",
            "Epoch 7/10\n",
            "7/7 [==============================] - 0s 3ms/step - loss: 0.2960 - accuracy: 0.8869\n",
            "Epoch 8/10\n",
            "7/7 [==============================] - 0s 3ms/step - loss: 0.2824 - accuracy: 0.8894\n",
            "Epoch 9/10\n",
            "7/7 [==============================] - 0s 3ms/step - loss: 0.2852 - accuracy: 0.8920\n",
            "Epoch 10/10\n",
            "7/7 [==============================] - 0s 3ms/step - loss: 0.2593 - accuracy: 0.8920\n"
          ]
        }
      ]
    },
    {
      "cell_type": "code",
      "source": [
        "# 검증 데이터에 대한 예측 수행\n",
        "y_pred = model.predict(X_test)\n",
        "y_pred[0]"
      ],
      "metadata": {
        "colab": {
          "base_uri": "https://localhost:8080/"
        },
        "id": "aKQV-SQAJ88R",
        "outputId": "74dfa986-0460-4471-87e5-d6851e2b5b4e"
      },
      "execution_count": 21,
      "outputs": [
        {
          "output_type": "stream",
          "name": "stdout",
          "text": [
            "6/6 [==============================] - 0s 2ms/step\n"
          ]
        },
        {
          "output_type": "execute_result",
          "data": {
            "text/plain": [
              "array([6.179199e-10], dtype=float32)"
            ]
          },
          "metadata": {},
          "execution_count": 21
        }
      ]
    },
    {
      "cell_type": "code",
      "source": [
        "from sklearn.metrics import roc_curve, auc\n",
        "import matplotlib.pyplot as plt\n",
        "\n",
        "# ROC 곡선 그리기\n",
        "fpr, tpr, thresholds = roc_curve(y_test, y_pred)\n",
        "roc_auc = auc(fpr, tpr)\n",
        "\n",
        "plt.figure()\n",
        "plt.plot(fpr, tpr, color='darkorange', lw=2, label='ROC curve (area = %0.2f)' % roc_auc)\n",
        "plt.plot([0, 1], [0, 1], color='navy', lw=2, linestyle='--')\n",
        "plt.xlim([0.0, 1.0])\n",
        "plt.ylim([0.0, 1.05])\n",
        "plt.xlabel('False Positive Rate')\n",
        "plt.ylabel('True Positive Rate')\n",
        "plt.title('Receiver Operating Characteristic')\n",
        "plt.legend(loc=\"lower right\")\n",
        "plt.show()"
      ],
      "metadata": {
        "colab": {
          "base_uri": "https://localhost:8080/",
          "height": 472
        },
        "id": "RQMt-jvhJ9nJ",
        "outputId": "b286918b-2517-4578-8c2a-dd9e84d1f182"
      },
      "execution_count": 24,
      "outputs": [
        {
          "output_type": "display_data",
          "data": {
            "text/plain": [
              "<Figure size 640x480 with 1 Axes>"
            ],
            "image/png": "[encoded data removed]"
          },
          "metadata": {}
        }
      ]
    },
    {
      "cell_type": "markdown",
      "source": [
        "# 3. Fashion MNIST 구현하기\n",
        "\n"
      ],
      "metadata": {
        "id": "AQ1JDh6fKU5M"
      }
    },
    {
      "cell_type": "markdown",
      "source": [
        "```\n",
        "Pytorch의 경우는 깊은 모델을 만들때 class 를 사용한다.\n",
        "\n",
        "- class 적인 장점 모듈의 재사용성, 유연성과 확정성\n",
        "- 그것과는 별개로 파이토치는 자체적인 내부 구조와 API 가지고 있기때문에 클래스를 사용하는 것이 더욱 자연스러운 설계방식이다.\n",
        "```"
      ],
      "metadata": {
        "id": "tDryR7BMTBTK"
      }
    },
    {
      "cell_type": "markdown",
      "source": [
        "### tensorflow 로 구현하기"
      ],
      "metadata": {
        "id": "jAp8qrxtTUmN"
      }
    },
    {
      "cell_type": "code",
      "source": [
        "## data load\n",
        "\n",
        "fashion = tf.keras.datasets.fashion_mnist\n",
        "fashion_data = fashion.load_data()\n",
        "\n",
        "(train_imgs, train_labels), (test_imgs, test_labels) = fashion_data"
      ],
      "metadata": {
        "colab": {
          "base_uri": "https://localhost:8080/"
        },
        "id": "jmxToic0Tjak",
        "outputId": "1ce990b7-27d6-46e9-d6f8-88e716174b6d"
      },
      "execution_count": 25,
      "outputs": [
        {
          "output_type": "stream",
          "name": "stdout",
          "text": [
            "Downloading data from https://storage.googleapis.com/tensorflow/tf-keras-datasets/train-labels-idx1-ubyte.gz\n",
            "29515/29515 [==============================] - 0s 0us/step\n",
            "Downloading data from https://storage.googleapis.com/tensorflow/tf-keras-datasets/train-images-idx3-ubyte.gz\n",
            "26421880/26421880 [==============================] - 0s 0us/step\n",
            "Downloading data from https://storage.googleapis.com/tensorflow/tf-keras-datasets/t10k-labels-idx1-ubyte.gz\n",
            "5148/5148 [==============================] - 0s 0us/step\n",
            "Downloading data from https://storage.googleapis.com/tensorflow/tf-keras-datasets/t10k-images-idx3-ubyte.gz\n",
            "4422102/4422102 [==============================] - 0s 0us/step\n"
          ]
        }
      ]
    },
    {
      "cell_type": "code",
      "source": [
        "train_imgs.shape, train_labels.shape, test_imgs.shape, test_labels.shape\n",
        "\n",
        "## 28*28 흑백 데이터 60000개    train\n",
        "## 28*28 흑백 데이터 10000개    test"
      ],
      "metadata": {
        "colab": {
          "base_uri": "https://localhost:8080/"
        },
        "id": "YEXeKAR8Tr67",
        "outputId": "20fb4a7e-6fa2-4917-e72d-5282a349c231"
      },
      "execution_count": 26,
      "outputs": [
        {
          "output_type": "execute_result",
          "data": {
            "text/plain": [
              "((60000, 28, 28), (60000,), (10000, 28, 28), (10000,))"
            ]
          },
          "metadata": {},
          "execution_count": 26
        }
      ]
    },
    {
      "cell_type": "code",
      "source": [
        "label_names = ['T-shirt/top', 'Trouser', 'Pullover', 'Dress', 'Coat',\n",
        "               'Sandal', 'Shirt', 'Sneaker', 'Bag', 'Ankle boot']"
      ],
      "metadata": {
        "id": "RFqMEUcFTsrm"
      },
      "execution_count": 27,
      "outputs": []
    },
    {
      "cell_type": "code",
      "source": [
        "## 모델 구축\n",
        "\n",
        "import tensorflow as tf\n",
        "from tensorflow.keras import layers\n",
        "\n",
        "model = tf.keras.Sequential([\n",
        "    layers.Conv2D(32, (3, 3), activation='relu', input_shape=(28, 28, 1)),\n",
        "    layers.MaxPooling2D((2, 2)),\n",
        "    layers.Conv2D(64, (3, 3), activation='relu'),\n",
        "    layers.MaxPooling2D((2, 2)),\n",
        "    layers.Flatten(),\n",
        "    layers.Dense(64, activation='relu'),\n",
        "    layers.Dense(10, activation='softmax')  # 클래스 개수에 맞는 출력층 설정\n",
        "])"
      ],
      "metadata": {
        "id": "wyuKFeA8TwNM"
      },
      "execution_count": 28,
      "outputs": []
    },
    {
      "cell_type": "code",
      "source": [
        "# 모델 컴파일\n",
        "model.compile(optimizer='adam',\n",
        "              loss='sparse_categorical_crossentropy',\n",
        "              metrics=['accuracy'])"
      ],
      "metadata": {
        "id": "Y7hx1OaYUEx4"
      },
      "execution_count": 29,
      "outputs": []
    },
    {
      "cell_type": "code",
      "source": [
        "model.summary()"
      ],
      "metadata": {
        "colab": {
          "base_uri": "https://localhost:8080/"
        },
        "id": "0GhZmQbZUGhj",
        "outputId": "63ce2e9b-b9a3-43d4-dd49-69255730898b"
      },
      "execution_count": 30,
      "outputs": [
        {
          "output_type": "stream",
          "name": "stdout",
          "text": [
            "Model: \"sequential_2\"\n",
            "_________________________________________________________________\n",
            " Layer (type)                Output Shape              Param #   \n",
            "=================================================================\n",
            " conv2d_3 (Conv2D)           (None, 26, 26, 32)        320       \n",
            "                                                                 \n",
            " max_pooling2d_2 (MaxPooling  (None, 13, 13, 32)       0         \n",
            " 2D)                                                             \n",
            "                                                                 \n",
            " conv2d_4 (Conv2D)           (None, 11, 11, 64)        18496     \n",
            "                                                                 \n",
            " max_pooling2d_3 (MaxPooling  (None, 5, 5, 64)         0         \n",
            " 2D)                                                             \n",
            "                                                                 \n",
            " flatten_1 (Flatten)         (None, 1600)              0         \n",
            "                                                                 \n",
            " dense_7 (Dense)             (None, 64)                102464    \n",
            "                                                                 \n",
            " dense_8 (Dense)             (None, 10)                650       \n",
            "                                                                 \n",
            "=================================================================\n",
            "Total params: 121,930\n",
            "Trainable params: 121,930\n",
            "Non-trainable params: 0\n",
            "_________________________________________________________________\n"
          ]
        }
      ]
    },
    {
      "cell_type": "code",
      "source": [
        "history = model.fit(train_images, train_labels, epochs=5, validation_split = 0.2)"
      ],
      "metadata": {
        "colab": {
          "base_uri": "https://localhost:8080/"
        },
        "id": "yP1S6LNQUIPy",
        "outputId": "6846379e-41d5-4285-8e8c-42d3da4a3ee1"
      },
      "execution_count": 31,
      "outputs": [
        {
          "output_type": "stream",
          "name": "stdout",
          "text": [
            "Epoch 1/5\n",
            "1500/1500 [==============================] - 66s 43ms/step - loss: 2.3032 - accuracy: 0.0986 - val_loss: 2.3028 - val_accuracy: 0.1013\n",
            "Epoch 2/5\n",
            "1500/1500 [==============================] - 47s 31ms/step - loss: 2.3028 - accuracy: 0.0983 - val_loss: 2.3027 - val_accuracy: 0.1003\n",
            "Epoch 3/5\n",
            "1500/1500 [==============================] - 46s 31ms/step - loss: 2.3028 - accuracy: 0.0986 - val_loss: 2.3027 - val_accuracy: 0.0957\n",
            "Epoch 4/5\n",
            "1500/1500 [==============================] - 47s 31ms/step - loss: 2.3027 - accuracy: 0.0999 - val_loss: 2.3026 - val_accuracy: 0.1027\n",
            "Epoch 5/5\n",
            "1500/1500 [==============================] - 49s 33ms/step - loss: 2.3028 - accuracy: 0.0981 - val_loss: 2.3027 - val_accuracy: 0.1002\n"
          ]
        }
      ]
    },
    {
      "cell_type": "code",
      "source": [
        "import matplotlib.pyplot as plt\n",
        "\n",
        "fig, ax = plt.subplots(1, 2,\n",
        "                       figsize=[14, 7])\n",
        "\n",
        "ax[0].plot(history.history['loss'])\n",
        "ax[1].plot(history.history['accuracy'])"
      ],
      "metadata": {
        "colab": {
          "base_uri": "https://localhost:8080/",
          "height": 455
        },
        "id": "6NWE_ghBURI6",
        "outputId": "7bb39a6d-9869-43a6-dcc5-4ca96b92e4f0"
      },
      "execution_count": 32,
      "outputs": [
        {
          "output_type": "execute_result",
          "data": {
            "text/plain": [
              "[<matplotlib.lines.Line2D at 0x7fb83b9c4700>]"
            ]
          },
          "metadata": {},
          "execution_count": 32
        },
        {
          "output_type": "display_data",
          "data": {
            "text/plain": [
              "<Figure size 1400x700 with 2 Axes>"
            ],
            "image/png": "[encoded data removed]"
          },
          "metadata": {}
        }
      ]
    },
    {
      "cell_type": "code",
      "source": [],
      "metadata": {
        "id": "fOxOIadCWwwK"
      },
      "execution_count": null,
      "outputs": []
    },
    {
      "cell_type": "code",
      "source": [
        "## 하나의 데이터를 뽑아 예측 값과 비교하기\n",
        "import numpy as np\n",
        "sample_idx = 43\n",
        "y_test_pred = model.predict(test_imgs[sample_idx].reshape(1, 28, 28, 1))\n",
        "# print(y_test_pred)\n",
        "print(label_names[np.argmax(y_test_pred)])\n",
        "print(label_names[test_labels[sample_idx]])"
      ],
      "metadata": {
        "colab": {
          "base_uri": "https://localhost:8080/"
        },
        "id": "gPR467bMUa08",
        "outputId": "1f0baeaa-c589-432c-8dba-74b58800f746"
      },
      "execution_count": 49,
      "outputs": [
        {
          "output_type": "stream",
          "name": "stdout",
          "text": [
            "1/1 [==============================] - 0s 32ms/step\n",
            "T-shirt/top\n",
            "Sneaker\n"
          ]
        }
      ]
    },
    {
      "cell_type": "markdown",
      "source": [
        "### 파이토치로 구현"
      ],
      "metadata": {
        "id": "B5NXCGn3ZqZe"
      }
    },
    {
      "cell_type": "code",
      "source": [
        "import torch\n",
        "from torchvision import datasets, transforms\n",
        "\n",
        "# 데이터 전처리\n",
        "transform = transforms.Compose([\n",
        "    transforms.ToTensor(),\n",
        "    transforms.Normalize((0.5,), (0.5,))\n",
        "])\n",
        "\n",
        "# Fashion MNIST 데이터셋 로드\n",
        "train_dataset = datasets.FashionMNIST(root='./data', train=True, download=True, transform=transform)\n",
        "test_dataset = datasets.FashionMNIST(root='./data', train=False, download=True, transform=transform)\n",
        "\n",
        "# 데이터 로더 생성\n",
        "train_loader = torch.utils.data.DataLoader(train_dataset, batch_size=64, shuffle=True)\n",
        "test_loader = torch.utils.data.DataLoader(test_dataset, batch_size=64, shuffle=False)\n"
      ],
      "metadata": {
        "colab": {
          "base_uri": "https://localhost:8080/"
        },
        "id": "ufnOXLN8ZzF1",
        "outputId": "32e6b8fd-2bb5-49f9-8687-83bb3e7cfe5e"
      },
      "execution_count": 51,
      "outputs": [
        {
          "output_type": "stream",
          "name": "stdout",
          "text": [
            "Downloading http://fashion-mnist.s3-website.eu-central-1.amazonaws.com/train-images-idx3-ubyte.gz\n",
            "Downloading http://fashion-mnist.s3-website.eu-central-1.amazonaws.com/train-images-idx3-ubyte.gz to ./data/FashionMNIST/raw/train-images-idx3-ubyte.gz\n"
          ]
        },
        {
          "output_type": "stream",
          "name": "stderr",
          "text": [
            "100%|██████████| 26421880/26421880 [00:02<00:00, 11918757.83it/s]\n"
          ]
        },
        {
          "output_type": "stream",
          "name": "stdout",
          "text": [
            "Extracting ./data/FashionMNIST/raw/train-images-idx3-ubyte.gz to ./data/FashionMNIST/raw\n",
            "\n",
            "Downloading http://fashion-mnist.s3-website.eu-central-1.amazonaws.com/train-labels-idx1-ubyte.gz\n",
            "Downloading http://fashion-mnist.s3-website.eu-central-1.amazonaws.com/train-labels-idx1-ubyte.gz to ./data/FashionMNIST/raw/train-labels-idx1-ubyte.gz\n"
          ]
        },
        {
          "output_type": "stream",
          "name": "stderr",
          "text": [
            "100%|██████████| 29515/29515 [00:00<00:00, 203950.48it/s]\n"
          ]
        },
        {
          "output_type": "stream",
          "name": "stdout",
          "text": [
            "Extracting ./data/FashionMNIST/raw/train-labels-idx1-ubyte.gz to ./data/FashionMNIST/raw\n",
            "\n",
            "Downloading http://fashion-mnist.s3-website.eu-central-1.amazonaws.com/t10k-images-idx3-ubyte.gz\n",
            "Downloading http://fashion-mnist.s3-website.eu-central-1.amazonaws.com/t10k-images-idx3-ubyte.gz to ./data/FashionMNIST/raw/t10k-images-idx3-ubyte.gz\n"
          ]
        },
        {
          "output_type": "stream",
          "name": "stderr",
          "text": [
            "100%|██████████| 4422102/4422102 [00:01<00:00, 3773880.23it/s]\n"
          ]
        },
        {
          "output_type": "stream",
          "name": "stdout",
          "text": [
            "Extracting ./data/FashionMNIST/raw/t10k-images-idx3-ubyte.gz to ./data/FashionMNIST/raw\n",
            "\n",
            "Downloading http://fashion-mnist.s3-website.eu-central-1.amazonaws.com/t10k-labels-idx1-ubyte.gz\n",
            "Downloading http://fashion-mnist.s3-website.eu-central-1.amazonaws.com/t10k-labels-idx1-ubyte.gz to ./data/FashionMNIST/raw/t10k-labels-idx1-ubyte.gz\n"
          ]
        },
        {
          "output_type": "stream",
          "name": "stderr",
          "text": [
            "100%|██████████| 5148/5148 [00:00<00:00, 15184442.33it/s]"
          ]
        },
        {
          "output_type": "stream",
          "name": "stdout",
          "text": [
            "Extracting ./data/FashionMNIST/raw/t10k-labels-idx1-ubyte.gz to ./data/FashionMNIST/raw\n",
            "\n"
          ]
        },
        {
          "output_type": "stream",
          "name": "stderr",
          "text": [
            "\n"
          ]
        }
      ]
    },
    {
      "cell_type": "code",
      "source": [
        "import torch\n",
        "import torch.nn as nn\n",
        "\n",
        "# 모델 구축\n",
        "class CNN(nn.Module):\n",
        "    def __init__(self):\n",
        "        super(CNN, self).__init__()\n",
        "        self.conv1 = nn.Conv2d(1, 32, 3, padding=1)\n",
        "        self.conv2 = nn.Conv2d(32, 64, 3, padding=1)\n",
        "        self.pool = nn.MaxPool2d(2, 2)\n",
        "        self.fc1 = nn.Linear(64 * 7 * 7, 64)\n",
        "        self.fc2 = nn.Linear(64, 10)\n",
        "\n",
        "    def forward(self, x):\n",
        "        x = self.pool(torch.relu(self.conv1(x)))\n",
        "        x = self.pool(torch.relu(self.conv2(x)))\n",
        "        x = x.view(-1, 64 * 7 * 7)\n",
        "        x = torch.relu(self.fc1(x))\n",
        "        x = self.fc2(x)\n",
        "        return x\n",
        "\n",
        "# 모델 인스턴스 생성\n",
        "model = CNN()\n",
        "\n",
        "# 모델 요약 정보 출력\n",
        "print(model)\n"
      ],
      "metadata": {
        "colab": {
          "base_uri": "https://localhost:8080/"
        },
        "id": "GYe0wur-ZqIR",
        "outputId": "ae599fb0-fd1d-47c8-eb91-6ab0d79e22e2"
      },
      "execution_count": 50,
      "outputs": [
        {
          "output_type": "stream",
          "name": "stdout",
          "text": [
            "CNN(\n",
            "  (conv1): Conv2d(1, 32, kernel_size=(3, 3), stride=(1, 1), padding=(1, 1))\n",
            "  (conv2): Conv2d(32, 64, kernel_size=(3, 3), stride=(1, 1), padding=(1, 1))\n",
            "  (pool): MaxPool2d(kernel_size=2, stride=2, padding=0, dilation=1, ceil_mode=False)\n",
            "  (fc1): Linear(in_features=3136, out_features=64, bias=True)\n",
            "  (fc2): Linear(in_features=64, out_features=10, bias=True)\n",
            ")\n"
          ]
        }
      ]
    },
    {
      "cell_type": "code",
      "source": [
        "# 모델 학습\n",
        "criterion = nn.CrossEntropyLoss()\n",
        "optimizer = torch.optim.Adam(model.parameters(), lr=0.001)\n",
        "\n",
        "num_epochs = 10\n",
        "for epoch in range(num_epochs):\n",
        "    for images, labels in train_loader:\n",
        "        optimizer.zero_grad()\n",
        "        outputs = model(images)\n",
        "        loss = criterion(outputs, labels)\n",
        "        loss.backward()\n",
        "        optimizer.step()"
      ],
      "metadata": {
        "id": "ACQ_8zCFZtAM"
      },
      "execution_count": null,
      "outputs": []
    },
    {
      "cell_type": "markdown",
      "source": [
        "1: 입력 채널 수 (입력 이미지의 채널 수)\n",
        "32: 출력 채널 수 (합성곱 필터의 개수, 즉 출력 이미지의 채널 수)\n",
        "3: 커널 크기 (합성곱 필터의 크기)\n",
        "padding=1: 패딩 크기 (입력 이미지 주변에 가상의 원소를 추가하여 출력 크기를 조정하는데 사용되는 값)\n",
        "\n",
        "\n",
        "합성곱 레이어에 입력 데이터로 (batch_size, channels, height, width) 크기의 텐서를 전달할 때 batch_size는 명시적으로 지정되어야 합니다. 이는 미니배치 단위로 데이터를 처리하기 때문에 필요한 정보입니다.\n",
        "\n",
        "파이토치에서도 모델 학습 과정에서 배치사이즈를 정할 수 있습니다. 일반적으로 모델 구축 단계에서 배치사이즈를 지정하는 이유는 다음과 같습니다:\n",
        "\n",
        "모델 구조 설계: 모델을 구축할 때 배치사이즈를 고려하는 것은 모델의 입력 크기를 결정하는 중요한 요소입니다. 배치사이즈를 모델 구조에 포함시키면, 모델의 첫 번째 차원인 배치 차원을 고정하고 나머지 차원은 유동적으로 처리할 수 있게 됩니다.\n",
        "\n",
        "하이퍼파라미터 튜닝: 배치사이즈는 모델 학습 시에 중요한 하이퍼파라미터입니다. 적절한 배치사이즈를 선택하여 모델을 학습하면 학습 속도와 일반화 성능에 영향을 줄 수 있습니다. 따라서 모델 구축 단계에서 배치사이즈를 지정함으로써 하이퍼파라미터 튜닝에 용이하게 할 수 있습니다.\n",
        "\n",
        "메모리 관리: 모델 학습 시에는 모델 파라미터와 그래디언트를 메모리에 유지해야 합니다. 배치사이즈를 모델 구조에 포함하여 메모리 사용량을 예측하고 최적화할 수 있습니다. 작은 배치사이즈를 선택하면 메모리 사용량을 줄이고, 큰 배치사이즈를 선택하면 병렬 처리와 메모리 사용량 감소를 통해 학습 속도를 향상시킬 수 있습니다.\n",
        "\n",
        "물론, 파이토치에서도 모델을 학습할 때 배치사이즈를 지정하여 미니배치 단위로 데이터를 공급할 수 있습니다. 이는 DataLoader와 같은 데이터 로더를 사용하여 구현할 수 있습니다. 배치사이즈를 지정하는 방법은 모델 학습 단계에서 데이터 로더에 인자로 전달하여 설정할 수 있습니다."
      ],
      "metadata": {
        "id": "BPtk7T7TcwJV"
      }
    },
    {
      "cell_type": "code",
      "source": [
        "# 테스트 데이터 중 하나 선택\n",
        "sample_index = 0\n",
        "sample_image, sample_label = test_dataset[sample_index]\n",
        "sample_image = sample_image.unsqueeze(0)\n",
        "\n",
        "# 예측 수행\n",
        "model.eval()\n",
        "with torch.no_grad():\n",
        "    output = model(sample_image)\n",
        "    _, predicted = torch.max(output, 1)\n",
        "    predicted_label = predicted.item()\n",
        "\n",
        "# 예측 결과와 실제 레이블 비교\n",
        "print(\"실제 레이블:\", sample_label)\n",
        "print(\"예측된 레이블:\", predicted_label)"
      ],
      "metadata": {
        "id": "kA6Ju9qyaePF"
      },
      "execution_count": null,
      "outputs": []
    },
    {
      "cell_type": "markdown",
      "source": [
        "차이\n",
        "\n",
        "파이토치는 입력사이즈를 지정해주지 않아도 된다.\n",
        "파이토치의 배치사이즈는 dataload 를 이용해서 실행한다.\n",
        "fit 함수가 없어서 for 문을 돌린다 --> 자유성이 보장되지만 조금 복잡\n"
      ],
      "metadata": {
        "id": "ddWody2zdLdf"
      }
    }
  ]
}