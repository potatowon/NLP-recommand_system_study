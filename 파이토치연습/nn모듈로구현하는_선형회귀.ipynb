{
 "cells": [
  {
   "cell_type": "markdown",
   "source": [
    "# nn.Module 로 선형회귀 구현하기"
   ],
   "metadata": {
    "collapsed": false
   }
  },
  {
   "cell_type": "markdown",
   "source": [
    "앞서 세웠던 `W*x +b` 와 cost function 을 직접 구현했으나, 이미 구현되어 있는 모듈을 불러와 더 쉽게 선형 회귀 모델을 구현할 수 있다.\n",
    "\n",
    "`nn.Linear()`"
   ],
   "metadata": {
    "collapsed": false
   }
  },
  {
   "cell_type": "code",
   "execution_count": 1,
   "outputs": [
    {
     "data": {
      "text/plain": "<torch._C.Generator at 0x7f92aa3e5b30>"
     },
     "execution_count": 1,
     "metadata": {},
     "output_type": "execute_result"
    }
   ],
   "source": [
    "import torch\n",
    "import torch.nn as nn\n",
    "import torch.nn.functional as F\n",
    "\n",
    "# seed 고정\n",
    "\n",
    "torch.manual_seed(42)\n"
   ],
   "metadata": {
    "collapsed": false
   }
  },
  {
   "cell_type": "markdown",
   "source": [
    "## 단순선형회귀 구현하기"
   ],
   "metadata": {
    "collapsed": false
   }
  },
  {
   "cell_type": "markdown",
   "source": [
    "### 1. 데이터"
   ],
   "metadata": {
    "collapsed": false
   }
  },
  {
   "cell_type": "code",
   "execution_count": 13,
   "outputs": [],
   "source": [
    "# 데이터\n",
    "x_train = torch.FloatTensor([[1], [2], [3]])\n",
    "y_train = torch.FloatTensor([[2], [4], [6]])"
   ],
   "metadata": {
    "collapsed": false
   }
  },
  {
   "cell_type": "markdown",
   "source": [
    "### 2. 모델 선언"
   ],
   "metadata": {
    "collapsed": false
   }
  },
  {
   "cell_type": "code",
   "execution_count": 3,
   "outputs": [],
   "source": [
    "model = nn.Linear(1, 1) # input_dim=1, output_dim=1 : 단순 선형회귀 이므로"
   ],
   "metadata": {
    "collapsed": false
   }
  },
  {
   "cell_type": "code",
   "execution_count": 5,
   "outputs": [
    {
     "name": "stdout",
     "output_type": "stream",
     "text": [
      "[Parameter containing:\n",
      "tensor([[0.7645]], requires_grad=True), Parameter containing:\n",
      "tensor([0.8300], requires_grad=True)]\n"
     ]
    }
   ],
   "source": [
    "print(list(model.parameters()))\n",
    "\n",
    "# W, b 에 대한 초기값, 가변"
   ],
   "metadata": {
    "collapsed": false
   }
  },
  {
   "cell_type": "markdown",
   "source": [
    "optimizer 설정\n",
    "\n",
    "1) `import torch.optim as optim` 하여 `optim.SGD`으로 사용\n",
    "2) `import torch` 하여 `torch.optim.SGD` 로 사용"
   ],
   "metadata": {
    "collapsed": false
   }
  },
  {
   "cell_type": "code",
   "execution_count": 6,
   "outputs": [],
   "source": [
    "optimizer = torch.optim.SGD(model.parameters(), lr=0.1)"
   ],
   "metadata": {
    "collapsed": false
   }
  },
  {
   "cell_type": "markdown",
   "source": [
    "### 3. model fit"
   ],
   "metadata": {
    "collapsed": false
   }
  },
  {
   "cell_type": "code",
   "execution_count": 9,
   "outputs": [
    {
     "name": "stdout",
     "output_type": "stream",
     "text": [
      "Epoch : 0/2000 Cost:0.223008\n",
      "Epoch : 100/2000 Cost:0.001393\n",
      "Epoch : 200/2000 Cost:0.000011\n",
      "Epoch : 300/2000 Cost:0.000000\n",
      "Epoch : 400/2000 Cost:0.000000\n",
      "Epoch : 500/2000 Cost:0.000000\n",
      "Epoch : 600/2000 Cost:0.000000\n",
      "Epoch : 700/2000 Cost:0.000000\n",
      "Epoch : 800/2000 Cost:0.000000\n",
      "Epoch : 900/2000 Cost:0.000000\n",
      "Epoch : 1000/2000 Cost:0.000000\n",
      "Epoch : 1100/2000 Cost:0.000000\n",
      "Epoch : 1200/2000 Cost:0.000000\n",
      "Epoch : 1300/2000 Cost:0.000000\n",
      "Epoch : 1400/2000 Cost:0.000000\n",
      "Epoch : 1500/2000 Cost:0.000000\n",
      "Epoch : 1600/2000 Cost:0.000000\n",
      "Epoch : 1700/2000 Cost:0.000000\n",
      "Epoch : 1800/2000 Cost:0.000000\n",
      "Epoch : 1900/2000 Cost:0.000000\n"
     ]
    }
   ],
   "source": [
    "nb_epochs = 2000\n",
    "\n",
    "for epoch in range(nb_epochs):\n",
    "\n",
    "    # hypothesis 계산\n",
    "    prediction = model(x_train)\n",
    "\n",
    "    # cost 계산\n",
    "    cost = F.mse_loss(prediction, y_train)\n",
    "\n",
    "    # optimizer\n",
    "    optimizer.zero_grad()\n",
    "    cost.backward() # 정의한 cost 로 backward 계산\n",
    "    optimizer.step() # update\n",
    "\n",
    "    if epoch%100 == 0:\n",
    "        print(f'Epoch : {epoch}/{nb_epochs} Cost:{cost.item():.6f}')\n"
   ],
   "metadata": {
    "collapsed": false
   }
  },
  {
   "cell_type": "code",
   "execution_count": 10,
   "outputs": [
    {
     "name": "stdout",
     "output_type": "stream",
     "text": [
      "훈련 후 입력이 4일 때의 예측값 : tensor([[8.]], grad_fn=<AddmmBackward0>)\n"
     ]
    }
   ],
   "source": [
    "# 임의의 입력 4를 선언\n",
    "new_var =  torch.FloatTensor([[4.0]])\n",
    "# 입력한 값 4에 대해서 예측값 y를 리턴받아서 pred_y에 저장\n",
    "pred_y = model(new_var) # forward 연산\n",
    "# y = 2x 이므로 입력이 4라면 y가 8에 가까운 값이 나와야 제대로 학습이 된 것\n",
    "print(\"훈련 후 입력이 4일 때의 예측값 :\", pred_y)"
   ],
   "metadata": {
    "collapsed": false
   }
  },
  {
   "cell_type": "code",
   "execution_count": 12,
   "outputs": [
    {
     "name": "stdout",
     "output_type": "stream",
     "text": [
      "[Parameter containing:\n",
      "tensor([[2.]], requires_grad=True), Parameter containing:\n",
      "tensor([1.0725e-07], requires_grad=True)]\n"
     ]
    }
   ],
   "source": [
    "print(list(model.parameters()))\n",
    "\n",
    "# W ~ 2 이고, b ~0 이어야 잘 나온것"
   ],
   "metadata": {
    "collapsed": false
   }
  },
  {
   "cell_type": "markdown",
   "source": [
    "## 다중 선형회귀 구현하기"
   ],
   "metadata": {
    "collapsed": false
   }
  },
  {
   "cell_type": "markdown",
   "source": [
    "다중선형회귀라 함은 feature 의 개수가 늘어났을 뿐이다\n",
    "\n",
    "- 단순 선형 회귀 : $y = w \\times x + b$\n",
    "- 다중 선형 회귀 : $y = w_{1} \\times x_{1} + w_{2} \\times x_{2} + w_{3} \\times x_{3} + b$"
   ],
   "metadata": {
    "collapsed": false
   }
  },
  {
   "cell_type": "markdown",
   "source": [
    "### 1. 데이터 load"
   ],
   "metadata": {
    "collapsed": false
   }
  },
  {
   "cell_type": "code",
   "execution_count": 15,
   "outputs": [],
   "source": [
    "# 데이터\n",
    "x_train = torch.FloatTensor([[73, 80, 75],\n",
    "                             [93, 88, 93],\n",
    "                             [89, 91, 90],\n",
    "                             [96, 98, 100],\n",
    "                             [73, 66, 70]])\n",
    "y_train = torch.FloatTensor([[152], [185], [180], [196], [142]])"
   ],
   "metadata": {
    "collapsed": false
   }
  },
  {
   "cell_type": "markdown",
   "source": [
    "### 2. 모델구현"
   ],
   "metadata": {
    "collapsed": false
   }
  },
  {
   "cell_type": "code",
   "execution_count": 17,
   "outputs": [
    {
     "name": "stdout",
     "output_type": "stream",
     "text": [
      "[Parameter containing:\n",
      "tensor([[-0.2811,  0.3391,  0.5090]], requires_grad=True), Parameter containing:\n",
      "tensor([-0.4236], requires_grad=True)]\n"
     ]
    }
   ],
   "source": [
    "model = nn.Linear(3, 1) # input_feature(dim) = 3, output_dim = 1(by 선형회귀)\n",
    "print(list(model.parameters())) # a"
   ],
   "metadata": {
    "collapsed": false
   }
  },
  {
   "cell_type": "code",
   "execution_count": 18,
   "outputs": [],
   "source": [
    "optimizer = torch.optim.SGD(model.parameters(), lr=1e-5)"
   ],
   "metadata": {
    "collapsed": false
   }
  },
  {
   "cell_type": "markdown",
   "source": [
    "### 3. 학습"
   ],
   "metadata": {
    "collapsed": false
   }
  },
  {
   "cell_type": "code",
   "execution_count": 23,
   "outputs": [
    {
     "name": "stdout",
     "output_type": "stream",
     "text": [
      "Epoch : 0/2000 Cost:15328.947266\n",
      "Epoch : 100/2000 Cost:6.825569\n",
      "Epoch : 200/2000 Cost:6.518710\n",
      "Epoch : 300/2000 Cost:6.227828\n",
      "Epoch : 400/2000 Cost:5.952083\n",
      "Epoch : 500/2000 Cost:5.690675\n",
      "Epoch : 600/2000 Cost:5.442862\n",
      "Epoch : 700/2000 Cost:5.207896\n",
      "Epoch : 800/2000 Cost:4.985125\n",
      "Epoch : 900/2000 Cost:4.773916\n",
      "Epoch : 1000/2000 Cost:4.573637\n",
      "Epoch : 1100/2000 Cost:4.383702\n",
      "Epoch : 1200/2000 Cost:4.203583\n",
      "Epoch : 1300/2000 Cost:4.032788\n",
      "Epoch : 1400/2000 Cost:3.870767\n",
      "Epoch : 1500/2000 Cost:3.717095\n",
      "Epoch : 1600/2000 Cost:3.571372\n",
      "Epoch : 1700/2000 Cost:3.433124\n",
      "Epoch : 1800/2000 Cost:3.301940\n",
      "Epoch : 1900/2000 Cost:3.177516\n"
     ]
    }
   ],
   "source": [
    "nb_epochs = 2000\n",
    "\n",
    "for epoch in range(nb_epochs):\n",
    "\n",
    "    # hypothesis\n",
    "    prediction = model(x_train)\n",
    "\n",
    "    # cost\n",
    "    cost = F.mse_loss(prediction, y_train)\n",
    "\n",
    "    optimizer.zero_grad()\n",
    "    cost.backward()\n",
    "    optimizer.step()\n",
    "\n",
    "    if epoch%100 == 0:\n",
    "       print(f'Epoch : {epoch}/{nb_epochs} Cost:{cost.item():.6f}')"
   ],
   "metadata": {
    "collapsed": false
   }
  },
  {
   "cell_type": "code",
   "execution_count": 26,
   "outputs": [
    {
     "name": "stdout",
     "output_type": "stream",
     "text": [
      "예측값 tensor([[152.7481]], grad_fn=<AddmmBackward0>)\n"
     ]
    }
   ],
   "source": [
    "new_var = torch.FloatTensor([[73, 80, 75]])\n",
    "\n",
    "pred_y = model(new_var)\n",
    "\n",
    "print(f'예측값 {pred_y}')"
   ],
   "metadata": {
    "collapsed": false
   }
  },
  {
   "cell_type": "code",
   "execution_count": null,
   "outputs": [],
   "source": [],
   "metadata": {
    "collapsed": false
   }
  }
 ],
 "metadata": {
  "kernelspec": {
   "display_name": "Python 3",
   "language": "python",
   "name": "python3"
  },
  "language_info": {
   "codemirror_mode": {
    "name": "ipython",
    "version": 2
   },
   "file_extension": ".py",
   "mimetype": "text/x-python",
   "name": "python",
   "nbconvert_exporter": "python",
   "pygments_lexer": "ipython2",
   "version": "2.7.6"
  }
 },
 "nbformat": 4,
 "nbformat_minor": 0
}
